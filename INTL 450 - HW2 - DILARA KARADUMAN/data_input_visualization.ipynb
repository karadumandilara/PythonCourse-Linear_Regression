{
 "cells": [
  {
   "cell_type": "code",
   "execution_count": 2,
   "metadata": {},
   "outputs": [],
   "source": [
    "import pandas as pd\n",
    "import numpy as np\n",
    "import seaborn as sns\n",
    "import matplotlib.pyplot as plt"
   ]
  },
  {
   "cell_type": "code",
   "execution_count": 3,
   "metadata": {},
   "outputs": [],
   "source": [
    "data=pd.read_csv(\"predictions.csv\")"
   ]
  },
  {
   "cell_type": "code",
   "execution_count": 4,
   "metadata": {},
   "outputs": [
    {
     "data": {
      "text/html": [
       "<div>\n",
       "<style scoped>\n",
       "    .dataframe tbody tr th:only-of-type {\n",
       "        vertical-align: middle;\n",
       "    }\n",
       "\n",
       "    .dataframe tbody tr th {\n",
       "        vertical-align: top;\n",
       "    }\n",
       "\n",
       "    .dataframe thead th {\n",
       "        text-align: right;\n",
       "    }\n",
       "</style>\n",
       "<table border=\"1\" class=\"dataframe\">\n",
       "  <thead>\n",
       "    <tr style=\"text-align: right;\">\n",
       "      <th></th>\n",
       "      <th>0</th>\n",
       "      <th>1</th>\n",
       "      <th>2</th>\n",
       "      <th>3</th>\n",
       "      <th>4</th>\n",
       "      <th>5</th>\n",
       "      <th>6</th>\n",
       "      <th>7</th>\n",
       "      <th>8</th>\n",
       "      <th>9</th>\n",
       "      <th>...</th>\n",
       "      <th>173</th>\n",
       "      <th>174</th>\n",
       "      <th>175</th>\n",
       "      <th>176</th>\n",
       "      <th>177</th>\n",
       "      <th>178</th>\n",
       "      <th>179</th>\n",
       "      <th>180</th>\n",
       "      <th>181</th>\n",
       "      <th>182</th>\n",
       "    </tr>\n",
       "  </thead>\n",
       "  <tbody>\n",
       "    <tr>\n",
       "      <th>0</th>\n",
       "      <td>76.600000</td>\n",
       "      <td>39.800000</td>\n",
       "      <td>668.800000</td>\n",
       "      <td>200.800000</td>\n",
       "      <td>911.600000</td>\n",
       "      <td>33.40000</td>\n",
       "      <td>1362.100000</td>\n",
       "      <td>476.800000</td>\n",
       "      <td>187.300000</td>\n",
       "      <td>76.900000</td>\n",
       "      <td>...</td>\n",
       "      <td>3162.400000</td>\n",
       "      <td>21427.700000</td>\n",
       "      <td>82.800000</td>\n",
       "      <td>303.300000</td>\n",
       "      <td>0.900000</td>\n",
       "      <td>202.000000</td>\n",
       "      <td>1001.500000</td>\n",
       "      <td>72.100000</td>\n",
       "      <td>75.900000</td>\n",
       "      <td>39.700000</td>\n",
       "    </tr>\n",
       "    <tr>\n",
       "      <th>1</th>\n",
       "      <td>38.000000</td>\n",
       "      <td>2.900000</td>\n",
       "      <td>43.100000</td>\n",
       "      <td>31.800000</td>\n",
       "      <td>44.900000</td>\n",
       "      <td>3.00000</td>\n",
       "      <td>25.400000</td>\n",
       "      <td>8.900000</td>\n",
       "      <td>10.000000</td>\n",
       "      <td>1.600000</td>\n",
       "      <td>...</td>\n",
       "      <td>66.800000</td>\n",
       "      <td>328.200000</td>\n",
       "      <td>3.500000</td>\n",
       "      <td>33.600000</td>\n",
       "      <td>0.300000</td>\n",
       "      <td>28.500000</td>\n",
       "      <td>96.500000</td>\n",
       "      <td>29.200000</td>\n",
       "      <td>17.900000</td>\n",
       "      <td>14.600000</td>\n",
       "    </tr>\n",
       "    <tr>\n",
       "      <th>2</th>\n",
       "      <td>11.268531</td>\n",
       "      <td>9.657806</td>\n",
       "      <td>37.188948</td>\n",
       "      <td>16.704728</td>\n",
       "      <td>47.816232</td>\n",
       "      <td>9.37768</td>\n",
       "      <td>67.534483</td>\n",
       "      <td>28.785166</td>\n",
       "      <td>16.113837</td>\n",
       "      <td>11.281662</td>\n",
       "      <td>...</td>\n",
       "      <td>146.333078</td>\n",
       "      <td>945.799822</td>\n",
       "      <td>11.539903</td>\n",
       "      <td>21.191122</td>\n",
       "      <td>7.955164</td>\n",
       "      <td>16.757251</td>\n",
       "      <td>51.751128</td>\n",
       "      <td>11.071567</td>\n",
       "      <td>11.237892</td>\n",
       "      <td>9.653429</td>\n",
       "    </tr>\n",
       "  </tbody>\n",
       "</table>\n",
       "<p>3 rows × 183 columns</p>\n",
       "</div>"
      ],
      "text/plain": [
       "           0          1           2           3           4         5  \\\n",
       "0  76.600000  39.800000  668.800000  200.800000  911.600000  33.40000   \n",
       "1  38.000000   2.900000   43.100000   31.800000   44.900000   3.00000   \n",
       "2  11.268531   9.657806   37.188948   16.704728   47.816232   9.37768   \n",
       "\n",
       "             6           7           8          9  ...          173  \\\n",
       "0  1362.100000  476.800000  187.300000  76.900000  ...  3162.400000   \n",
       "1    25.400000    8.900000   10.000000   1.600000  ...    66.800000   \n",
       "2    67.534483   28.785166   16.113837  11.281662  ...   146.333078   \n",
       "\n",
       "            174        175         176       177         178          179  \\\n",
       "0  21427.700000  82.800000  303.300000  0.900000  202.000000  1001.500000   \n",
       "1    328.200000   3.500000   33.600000  0.300000   28.500000    96.500000   \n",
       "2    945.799822  11.539903   21.191122  7.955164   16.757251    51.751128   \n",
       "\n",
       "         180        181        182  \n",
       "0  72.100000  75.900000  39.700000  \n",
       "1  29.200000  17.900000  14.600000  \n",
       "2  11.071567  11.237892   9.653429  \n",
       "\n",
       "[3 rows x 183 columns]"
      ]
     },
     "execution_count": 4,
     "metadata": {},
     "output_type": "execute_result"
    }
   ],
   "source": [
    "data"
   ]
  },
  {
   "cell_type": "code",
   "execution_count": 5,
   "metadata": {},
   "outputs": [],
   "source": [
    "data=data.transpose()"
   ]
  },
  {
   "cell_type": "code",
   "execution_count": 6,
   "metadata": {},
   "outputs": [],
   "source": [
    "X=data[0]\n",
    "Y=data[1]\n",
    "predictions=data[2]"
   ]
  },
  {
   "cell_type": "code",
   "execution_count": 18,
   "metadata": {},
   "outputs": [
    {
     "data": {
      "text/plain": [
       "<matplotlib.axes._subplots.AxesSubplot at 0x12a63277fd0>"
      ]
     },
     "execution_count": 18,
     "metadata": {},
     "output_type": "execute_result"
    },
    {
     "data": {
      "image/png": "[encoded data removed]",
      "text/plain": [
       "<Figure size 504x504 with 1 Axes>"
      ]
     },
     "metadata": {},
     "output_type": "display_data"
    }
   ],
   "source": [
    "fig, ax = plt.subplots()\n",
    "sns.set(color_codes=True)\n",
    "sns.set(rc={'figure.figsize':(7,7)})\n",
    "sns.regplot(x=X, y=Y, fit_reg=False, ax=ax,scatter_kws={\"color\": \"green\"})\n",
    "sns.regplot(x=X, y=predictions,scatter=False, ax=ax, scatter_kws={\"color\": \"green\"})\n"
   ]
  },
  {
   "cell_type": "code",
   "execution_count": null,
   "metadata": {},
   "outputs": [],
   "source": []
  }
 ],
 "metadata": {
  "kernelspec": {
   "display_name": "Python 3",
   "language": "python",
   "name": "python3"
  },
  "language_info": {
   "codemirror_mode": {
    "name": "ipython",
    "version": 3
   },
   "file_extension": ".py",
   "mimetype": "text/x-python",
   "name": "python",
   "nbconvert_exporter": "python",
   "pygments_lexer": "ipython3",
   "version": "3.8.3"
  }
 },
 "nbformat": 4,
 "nbformat_minor": 4
}
